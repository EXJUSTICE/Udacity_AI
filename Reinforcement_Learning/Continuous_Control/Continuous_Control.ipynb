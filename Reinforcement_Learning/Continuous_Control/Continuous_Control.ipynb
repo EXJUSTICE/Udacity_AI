{
 "cells": [
  {
   "cell_type": "markdown",
   "metadata": {},
   "source": [
    "# Continuous Control with a DDPG Agent\n",
    "\n",
    "---\n",
    "\n",
    "You are welcome to use this coding environment to train your agent for the project.  Follow the instructions below to get started! This project was run under the Udacity Workspace environment.\n",
    "\n",
    "### 1. Start the Environment\n",
    "\n",
    "Run the next code cell to install a few packages.  This line will take a few minutes to run!"
   ]
  },
  {
   "cell_type": "code",
   "execution_count": 1,
   "metadata": {},
   "outputs": [
    {
     "name": "stdout",
     "output_type": "stream",
     "text": [
      "\u001b[31mtensorflow 1.7.1 has requirement numpy>=1.13.3, but you'll have numpy 1.12.1 which is incompatible.\u001b[0m\r\n",
      "\u001b[31mipython 6.5.0 has requirement prompt-toolkit<2.0.0,>=1.0.15, but you'll have prompt-toolkit 3.0.5 which is incompatible.\u001b[0m\r\n"
     ]
    }
   ],
   "source": [
    "!pip -q install ./python"
   ]
  },
  {
   "cell_type": "markdown",
   "metadata": {},
   "source": [
    "The environments corresponding to both versions of the environment are already saved in the Workspace and can be accessed at the file paths provided below.  \n",
    "\n",
    "Please select one of the two options below for loading the environment."
   ]
  },
  {
   "cell_type": "code",
   "execution_count": 2,
   "metadata": {},
   "outputs": [
    {
     "name": "stderr",
     "output_type": "stream",
     "text": [
      "INFO:unityagents:\n",
      "'Academy' started successfully!\n",
      "Unity Academy name: Academy\n",
      "        Number of Brains: 1\n",
      "        Number of External Brains : 1\n",
      "        Lesson number : 0\n",
      "        Reset Parameters :\n",
      "\t\tgoal_size -> 5.0\n",
      "\t\tgoal_speed -> 1.0\n",
      "Unity brain name: ReacherBrain\n",
      "        Number of Visual Observations (per agent): 0\n",
      "        Vector Observation space type: continuous\n",
      "        Vector Observation space size (per agent): 33\n",
      "        Number of stacked Vector Observation: 1\n",
      "        Vector Action space type: continuous\n",
      "        Vector Action space size (per agent): 4\n",
      "        Vector Action descriptions: , , , \n"
     ]
    }
   ],
   "source": [
    "from unityagents import UnityEnvironment\n",
    "import numpy as np\n",
    "\n",
    "# select this option to load version 1 (with a single agent) of the environment\n",
    "#env = UnityEnvironment(file_name='/data/Reacher_One_Linux_NoVis/Reacher_One_Linux_NoVis.x86_64')\n",
    "\n",
    "# select this option to load version 2 (with 20 agents) of the environment\n",
    "env = UnityEnvironment(file_name='/data/Reacher_Linux_NoVis/Reacher.x86_64')"
   ]
  },
  {
   "cell_type": "markdown",
   "metadata": {},
   "source": [
    "Environments contain **_brains_** which are responsible for deciding the actions of their associated agents. Here we check for the first brain available, and set it as the default brain we will be controlling from Python."
   ]
  },
  {
   "cell_type": "code",
   "execution_count": 3,
   "metadata": {},
   "outputs": [],
   "source": [
    "# get the default brain\n",
    "brain_name = env.brain_names[0]\n",
    "brain = env.brains[brain_name]"
   ]
  },
  {
   "cell_type": "markdown",
   "metadata": {},
   "source": [
    "### 2. Examine the State and Action Spaces\n",
    "\n",
    "Run the code cell below to print some information about the environment."
   ]
  },
  {
   "cell_type": "code",
   "execution_count": 4,
   "metadata": {},
   "outputs": [
    {
     "name": "stdout",
     "output_type": "stream",
     "text": [
      "Number of agents: 20\n",
      "Size of each action: 4\n",
      "There are 20 agents. Each observes a state with length: 33\n",
      "The state for the first agent looks like: [  0.00000000e+00  -4.00000000e+00   0.00000000e+00   1.00000000e+00\n",
      "  -0.00000000e+00  -0.00000000e+00  -4.37113883e-08   0.00000000e+00\n",
      "   0.00000000e+00   0.00000000e+00   0.00000000e+00   0.00000000e+00\n",
      "   0.00000000e+00   0.00000000e+00  -1.00000000e+01   0.00000000e+00\n",
      "   1.00000000e+00  -0.00000000e+00  -0.00000000e+00  -4.37113883e-08\n",
      "   0.00000000e+00   0.00000000e+00   0.00000000e+00   0.00000000e+00\n",
      "   0.00000000e+00   0.00000000e+00   5.75471878e+00  -1.00000000e+00\n",
      "   5.55726624e+00   0.00000000e+00   1.00000000e+00   0.00000000e+00\n",
      "  -1.68164849e-01]\n"
     ]
    }
   ],
   "source": [
    "# reset the environment\n",
    "env_info = env.reset(train_mode=True)[brain_name]\n",
    "\n",
    "# number of agents\n",
    "num_agents = len(env_info.agents)\n",
    "print('Number of agents:', num_agents)\n",
    "\n",
    "# size of each action\n",
    "action_size = brain.vector_action_space_size\n",
    "print('Size of each action:', action_size)\n",
    "\n",
    "# examine the state space \n",
    "states = env_info.vector_observations\n",
    "state_size = states.shape[1]\n",
    "print('There are {} agents. Each observes a state with length: {}'.format(states.shape[0], state_size))\n",
    "print('The state for the first agent looks like:', states[0])"
   ]
  },
  {
   "cell_type": "markdown",
   "metadata": {},
   "source": [
    "### 3. Take Random Actions in the Environment\n",
    "\n",
    "In the next code cell, you will learn how to use the Python API to control the agent and receive feedback from the environment.\n",
    "\n",
    "Note that **in this coding environment, you will not be able to watch the agents while they are training**, and you should set `train_mode=True` to restart the environment."
   ]
  },
  {
   "cell_type": "code",
   "execution_count": 5,
   "metadata": {},
   "outputs": [
    {
     "name": "stdout",
     "output_type": "stream",
     "text": [
      "Total score (averaged over agents) this episode: 0.10549999764189125\n"
     ]
    }
   ],
   "source": [
    "env_info = env.reset(train_mode=True)[brain_name]      # reset the environment    \n",
    "states = env_info.vector_observations                  # get the current state (for each agent)\n",
    "scores = np.zeros(num_agents)                          # initialize the score (for each agent)\n",
    "while True:\n",
    "    actions = np.random.randn(num_agents, action_size) # select an action (for each agent)\n",
    "    actions = np.clip(actions, -1, 1)                  # all actions between -1 and 1\n",
    "    env_info = env.step(actions)[brain_name]           # send all actions to tne environment\n",
    "    next_states = env_info.vector_observations         # get next state (for each agent)\n",
    "    rewards = env_info.rewards                         # get reward (for each agent)\n",
    "    dones = env_info.local_done                        # see if episode finished\n",
    "    scores += env_info.rewards                         # update the score (for each agent)\n",
    "    states = next_states                               # roll over states to next time step\n",
    "    if np.any(dones):                                  # exit loop if episode finished\n",
    "        break\n",
    "print('Total score (averaged over agents) this episode: {}'.format(np.mean(scores)))"
   ]
  },
  {
   "cell_type": "markdown",
   "metadata": {},
   "source": [
    "When finished, you can close the environment."
   ]
  },
  {
   "cell_type": "code",
   "execution_count": 6,
   "metadata": {},
   "outputs": [],
   "source": [
    "#env.close() Dont close it while we are training"
   ]
  },
  {
   "cell_type": "markdown",
   "metadata": {},
   "source": [
    "### 4. It's Your Turn!\n",
    "\n",
    "Now it's your turn to train your own agent to solve the environment!  A few **important notes**:\n",
    "- When training the environment, set `train_mode=True`, so that the line for resetting the environment looks like the following:\n",
    "```python\n",
    "env_info = env.reset(train_mode=True)[brain_name]\n",
    "```\n",
    "- To structure your work, you're welcome to work directly in this Jupyter notebook, or you might like to start over with a new file!  You can see the list of files in the workspace by clicking on **_Jupyter_** in the top left corner of the notebook.\n",
    "- In this coding environment, you will not be able to watch the agents while they are training.  However, **_after training the agents_**, you can download the saved model weights to watch the agents on your own machine! "
   ]
  },
  {
   "cell_type": "code",
   "execution_count": 7,
   "metadata": {},
   "outputs": [],
   "source": [
    "import gym\n",
    "import random\n",
    "import torch\n",
    "import numpy as np\n",
    "from collections import deque\n",
    "import matplotlib.pyplot as plt\n",
    "%matplotlib inline\n",
    "\n",
    "from ddpg_agent import Agent"
   ]
  },
  {
   "cell_type": "markdown",
   "metadata": {},
   "source": [
    "### Initialize DDPG Agent with Network Parameters\n",
    "Parameters are obtained form environment dimensions"
   ]
  },
  {
   "cell_type": "code",
   "execution_count": 8,
   "metadata": {},
   "outputs": [],
   "source": [
    "\n",
    "import time\n",
    "from datetime import timedelta\n",
    "from workspace_utils import active_session\n",
    "agent = Agent(state_size=state_size, action_size=action_size, random_seed=2)"
   ]
  },
  {
   "cell_type": "markdown",
   "metadata": {},
   "source": [
    "### Define DDPG Training Function\n",
    "\n",
    "Single DDPG Agent Approach. Alternatively, a DDPG agent could be initialized for every single environment agent, with collection, training, and evaluation done sequentially.\n",
    "However, that approach is inefficient for this environment. Should the agent's be in slightly different environments (i.e. levels in a video game), a multi DDPG-agent approach may be suitable.\n",
    "\n",
    "Pipeline is as follows:\n"
   ]
  },
  {
   "cell_type": "code",
   "execution_count": 9,
   "metadata": {},
   "outputs": [],
   "source": [
    "\n",
    "def ddpg(n_episodes=2000, max_t=1000, print_every=10, learn_every=20, learn_repeat=10, target_score=30,train_mode=True):\n",
    "    total_scores_deque = deque(maxlen=100)\n",
    "    total_scores = []\n",
    "    \n",
    "    for i_episode in range(1, n_episodes+1):\n",
    "        # Reset Env and Agent\n",
    "        env_info = env.reset(train_mode=train_mode)[brain_name]       # reset the environment    \n",
    "        states = env_info.vector_observations                   # get the current state (for each agent)\n",
    "        scores = np.zeros(num_agents)                            # initialize the score (for each agent)\n",
    "        agent.reset()\n",
    "        \n",
    "        start_time = time.time()\n",
    "        \n",
    "        for t in range(max_t):\n",
    "            actions = agent.act(states)                         # Predict action on states using agent\n",
    "            \n",
    "            env_info = env.step(actions)[brain_name]            # send all actions to the environment\n",
    "            next_states = env_info.vector_observations          # get next state (for each agent)\n",
    "            rewards = env_info.rewards                          # get reward (for each agent)\n",
    "            \n",
    "            dones = env_info.local_done                         # check if done (for each agent)\n",
    "            \n",
    "            for state, action, reward, next_state, done in zip(states, actions, rewards, next_states, dones):\n",
    "                agent.step(state, action, reward, next_state, done) # send actions to commit to replay buffer\n",
    "            \n",
    "            scores += env_info.rewards                           # update the score (for each agent)\n",
    "            states = next_states                                # update states for next time step\n",
    "            \n",
    "            #From the DDPG paper, we learn every 20 timesteps, 10 repetitions\n",
    "            if t%learn_every == 0:\n",
    "                for _ in range(learn_repeat):\n",
    "                    agent.step_learn()\n",
    "            \n",
    "            if np.any(dones):                                   # exit loop if episode finished\n",
    "                break\n",
    "        \n",
    "        #Mean scores across all agent per episode\n",
    "        mean_score = np.mean(scores)\n",
    "        min_score = np.min(scores)\n",
    "        max_score = np.max(scores)\n",
    "        #Append to deque\n",
    "        total_scores_deque.append(mean_score)\n",
    "        total_scores.append(mean_score)\n",
    "        #Take the average from the deque\n",
    "        total_deque_average_score = np.mean(total_scores_deque)\n",
    "        duration = time.time() - start_time\n",
    "        \n",
    "        print('\\rEpisode {}\\tAgent Avg Score: {:.2f}\\tMean: {:.2f}\\tMin: {:.2f}\\tMax: {:.2f}\\tDuration: {:.2f}'\n",
    "              .format(i_episode, total_deque_average_score, mean_score, min_score, max_score, duration))\n",
    "\n",
    "        if i_episode % print_every == 0:\n",
    "            torch.save(agent.actor_local.state_dict(), 'checkpoint_actor.pth')\n",
    "            torch.save(agent.critic_local.state_dict(), 'checkpoint_critic.pth')\n",
    "            print('\\rEpisode {}\\tAgent Avg Score: {:.2f}'.format(i_episode, total_deque_average_score))  \n",
    "            \n",
    "        if total_average_score >= target_score:\n",
    "            print('Problem Solved after {} epsisodes!! Agent Avg score: {:.2f}'.format(i_episode,total_deque_average_score))\n",
    "            torch.save(agent.actor_local.state_dict(), 'checkpoint_actor.pth')\n",
    "            torch.save(agent.critic_local.state_dict(), 'checkpoint_critic.pth')\n",
    "            break\n",
    "    \n",
    "    return total_scores"
   ]
  },
  {
   "cell_type": "markdown",
   "metadata": {},
   "source": [
    "### Train the DDPG Agent\n",
    "Active session is a workspace-specific method that prevents the Udacity Workspace from disconnecting after 30 minutes"
   ]
  },
  {
   "cell_type": "code",
   "execution_count": 10,
   "metadata": {},
   "outputs": [
    {
     "name": "stderr",
     "output_type": "stream",
     "text": [
      "/home/workspace/ddpg_agent.py:105: UserWarning: torch.nn.utils.clip_grad_norm is now deprecated in favor of torch.nn.utils.clip_grad_norm_.\n",
      "  torch.nn.utils.clip_grad_norm(self.critic_local.parameters(), 1)\n"
     ]
    },
    {
     "name": "stdout",
     "output_type": "stream",
     "text": [
      "Episode 1\tAgent Avg Score: 0.71\tMean: 0.71\tMin: 0.00\tMax: 1.35\tDuration: 21.60\n",
      "Episode 2\tAgent Avg Score: 0.74\tMean: 0.77\tMin: 0.00\tMax: 2.46\tDuration: 22.89\n",
      "Episode 3\tAgent Avg Score: 0.86\tMean: 1.11\tMin: 0.19\tMax: 2.47\tDuration: 22.61\n",
      "Episode 4\tAgent Avg Score: 0.91\tMean: 1.05\tMin: 0.22\tMax: 2.30\tDuration: 23.47\n",
      "Episode 5\tAgent Avg Score: 0.97\tMean: 1.22\tMin: 0.41\tMax: 2.29\tDuration: 23.83\n",
      "Episode 6\tAgent Avg Score: 1.07\tMean: 1.54\tMin: 0.56\tMax: 3.30\tDuration: 24.14\n",
      "Episode 7\tAgent Avg Score: 1.11\tMean: 1.37\tMin: 0.52\tMax: 2.28\tDuration: 24.55\n",
      "Episode 8\tAgent Avg Score: 1.16\tMean: 1.51\tMin: 0.18\tMax: 3.47\tDuration: 24.87\n",
      "Episode 9\tAgent Avg Score: 1.31\tMean: 2.50\tMin: 0.60\tMax: 4.06\tDuration: 25.15\n",
      "Episode 10\tAgent Avg Score: 1.42\tMean: 2.39\tMin: 1.10\tMax: 4.22\tDuration: 25.61\n",
      "Episode 10\tAgent Avg Score: 1.42\n",
      "Episode 11\tAgent Avg Score: 1.57\tMean: 3.12\tMin: 1.53\tMax: 5.16\tDuration: 26.24\n",
      "Episode 12\tAgent Avg Score: 1.80\tMean: 4.29\tMin: 1.44\tMax: 7.02\tDuration: 26.52\n",
      "Episode 13\tAgent Avg Score: 2.17\tMean: 6.58\tMin: 3.29\tMax: 10.14\tDuration: 27.32\n",
      "Episode 14\tAgent Avg Score: 2.64\tMean: 8.85\tMin: 2.49\tMax: 16.58\tDuration: 28.07\n",
      "Episode 15\tAgent Avg Score: 3.09\tMean: 9.39\tMin: 1.83\tMax: 19.28\tDuration: 28.69\n",
      "Episode 16\tAgent Avg Score: 3.53\tMean: 10.01\tMin: 2.23\tMax: 16.97\tDuration: 29.35\n",
      "Episode 17\tAgent Avg Score: 4.22\tMean: 15.27\tMin: 4.55\tMax: 30.98\tDuration: 30.18\n",
      "Episode 18\tAgent Avg Score: 5.38\tMean: 25.24\tMin: 10.36\tMax: 33.39\tDuration: 31.06\n",
      "Episode 19\tAgent Avg Score: 6.49\tMean: 26.40\tMin: 17.03\tMax: 34.09\tDuration: 32.19\n",
      "Episode 20\tAgent Avg Score: 7.64\tMean: 29.45\tMin: 21.77\tMax: 36.63\tDuration: 32.95\n",
      "Episode 20\tAgent Avg Score: 7.64\n",
      "Episode 21\tAgent Avg Score: 8.81\tMean: 32.23\tMin: 21.67\tMax: 37.65\tDuration: 33.88\n",
      "Episode 22\tAgent Avg Score: 10.00\tMean: 34.94\tMin: 24.10\tMax: 39.03\tDuration: 34.78\n",
      "Episode 23\tAgent Avg Score: 11.14\tMean: 36.24\tMin: 29.12\tMax: 39.56\tDuration: 35.96\n",
      "Episode 24\tAgent Avg Score: 12.17\tMean: 35.93\tMin: 25.10\tMax: 39.30\tDuration: 36.34\n",
      "Episode 25\tAgent Avg Score: 13.07\tMean: 34.69\tMin: 27.38\tMax: 39.03\tDuration: 36.67\n",
      "Episode 26\tAgent Avg Score: 14.01\tMean: 37.52\tMin: 32.37\tMax: 39.38\tDuration: 38.61\n",
      "Episode 27\tAgent Avg Score: 14.86\tMean: 36.91\tMin: 31.50\tMax: 39.15\tDuration: 39.52\n",
      "Episode 28\tAgent Avg Score: 15.67\tMean: 37.44\tMin: 33.06\tMax: 39.48\tDuration: 40.29\n",
      "Episode 29\tAgent Avg Score: 16.35\tMean: 35.52\tMin: 27.11\tMax: 39.27\tDuration: 41.37\n",
      "Episode 30\tAgent Avg Score: 17.07\tMean: 37.86\tMin: 34.03\tMax: 39.44\tDuration: 42.08\n",
      "Episode 30\tAgent Avg Score: 17.07\n",
      "Episode 31\tAgent Avg Score: 17.70\tMean: 36.72\tMin: 30.60\tMax: 39.12\tDuration: 43.50\n",
      "Episode 32\tAgent Avg Score: 18.34\tMean: 38.20\tMin: 35.69\tMax: 39.46\tDuration: 44.66\n",
      "Episode 33\tAgent Avg Score: 18.92\tMean: 37.52\tMin: 34.77\tMax: 39.08\tDuration: 45.06\n",
      "Episode 34\tAgent Avg Score: 19.44\tMean: 36.59\tMin: 34.12\tMax: 38.89\tDuration: 46.23\n",
      "Episode 35\tAgent Avg Score: 19.98\tMean: 38.21\tMin: 35.64\tMax: 39.56\tDuration: 46.99\n",
      "Episode 36\tAgent Avg Score: 20.50\tMean: 38.66\tMin: 37.10\tMax: 39.60\tDuration: 48.16\n",
      "Episode 37\tAgent Avg Score: 20.95\tMean: 37.28\tMin: 34.89\tMax: 38.62\tDuration: 49.48\n",
      "Episode 38\tAgent Avg Score: 21.41\tMean: 38.20\tMin: 35.40\tMax: 39.09\tDuration: 50.32\n",
      "Episode 39\tAgent Avg Score: 21.84\tMean: 38.17\tMin: 36.71\tMax: 39.35\tDuration: 51.24\n",
      "Episode 40\tAgent Avg Score: 22.23\tMean: 37.43\tMin: 33.76\tMax: 39.06\tDuration: 52.45\n",
      "Episode 40\tAgent Avg Score: 22.23\n",
      "Episode 41\tAgent Avg Score: 22.61\tMean: 38.14\tMin: 34.82\tMax: 39.44\tDuration: 53.82\n",
      "Episode 42\tAgent Avg Score: 22.98\tMean: 38.10\tMin: 35.94\tMax: 39.40\tDuration: 54.68\n",
      "Episode 43\tAgent Avg Score: 23.34\tMean: 38.42\tMin: 36.28\tMax: 39.60\tDuration: 55.77\n",
      "Episode 44\tAgent Avg Score: 23.68\tMean: 38.22\tMin: 34.91\tMax: 39.62\tDuration: 56.68\n",
      "Episode 45\tAgent Avg Score: 24.01\tMean: 38.33\tMin: 35.94\tMax: 39.23\tDuration: 57.67\n",
      "Episode 46\tAgent Avg Score: 24.31\tMean: 38.08\tMin: 36.43\tMax: 39.21\tDuration: 58.73\n",
      "Episode 47\tAgent Avg Score: 24.61\tMean: 38.27\tMin: 35.66\tMax: 39.67\tDuration: 59.31\n",
      "Episode 48\tAgent Avg Score: 24.89\tMean: 37.97\tMin: 35.62\tMax: 39.41\tDuration: 60.71\n",
      "Episode 49\tAgent Avg Score: 25.16\tMean: 38.44\tMin: 36.44\tMax: 39.36\tDuration: 61.51\n",
      "Episode 50\tAgent Avg Score: 25.45\tMean: 39.26\tMin: 38.52\tMax: 39.64\tDuration: 62.39\n",
      "Episode 50\tAgent Avg Score: 25.45\n",
      "Episode 51\tAgent Avg Score: 25.67\tMean: 37.05\tMin: 33.94\tMax: 38.57\tDuration: 63.04\n",
      "Episode 52\tAgent Avg Score: 25.92\tMean: 38.46\tMin: 35.67\tMax: 39.60\tDuration: 62.86\n",
      "Episode 53\tAgent Avg Score: 26.14\tMean: 37.78\tMin: 35.41\tMax: 39.26\tDuration: 62.93\n",
      "Episode 54\tAgent Avg Score: 26.38\tMean: 38.96\tMin: 37.73\tMax: 39.63\tDuration: 62.93\n",
      "Episode 55\tAgent Avg Score: 26.60\tMean: 38.55\tMin: 36.87\tMax: 39.60\tDuration: 63.07\n",
      "Episode 56\tAgent Avg Score: 26.81\tMean: 38.20\tMin: 35.25\tMax: 39.27\tDuration: 63.62\n",
      "Episode 57\tAgent Avg Score: 27.02\tMean: 38.98\tMin: 37.61\tMax: 39.56\tDuration: 64.35\n",
      "Episode 58\tAgent Avg Score: 27.22\tMean: 38.58\tMin: 37.63\tMax: 39.47\tDuration: 63.57\n",
      "Episode 59\tAgent Avg Score: 27.41\tMean: 38.63\tMin: 37.44\tMax: 39.47\tDuration: 62.98\n",
      "Episode 60\tAgent Avg Score: 27.59\tMean: 38.06\tMin: 35.81\tMax: 39.21\tDuration: 63.23\n",
      "Episode 60\tAgent Avg Score: 27.59\n",
      "Episode 61\tAgent Avg Score: 27.73\tMean: 36.23\tMin: 33.99\tMax: 37.93\tDuration: 63.57\n",
      "Episode 62\tAgent Avg Score: 27.90\tMean: 37.89\tMin: 36.43\tMax: 39.02\tDuration: 62.96\n",
      "Episode 63\tAgent Avg Score: 28.06\tMean: 38.44\tMin: 36.27\tMax: 39.59\tDuration: 63.57\n",
      "Episode 64\tAgent Avg Score: 28.22\tMean: 38.29\tMin: 35.57\tMax: 39.49\tDuration: 63.56\n",
      "Episode 65\tAgent Avg Score: 28.37\tMean: 37.49\tMin: 34.58\tMax: 38.96\tDuration: 63.69\n",
      "Episode 66\tAgent Avg Score: 28.53\tMean: 39.13\tMin: 37.96\tMax: 39.58\tDuration: 63.50\n",
      "Episode 67\tAgent Avg Score: 28.67\tMean: 38.13\tMin: 36.51\tMax: 39.05\tDuration: 63.38\n",
      "Episode 68\tAgent Avg Score: 28.82\tMean: 38.57\tMin: 36.86\tMax: 39.56\tDuration: 63.60\n",
      "Episode 69\tAgent Avg Score: 28.97\tMean: 39.08\tMin: 38.53\tMax: 39.57\tDuration: 63.74\n",
      "Episode 70\tAgent Avg Score: 29.10\tMean: 38.29\tMin: 36.14\tMax: 39.20\tDuration: 63.52\n",
      "Episode 70\tAgent Avg Score: 29.10\n",
      "Episode 71\tAgent Avg Score: 29.25\tMean: 39.34\tMin: 37.88\tMax: 39.62\tDuration: 63.23\n",
      "Episode 72\tAgent Avg Score: 29.37\tMean: 38.51\tMin: 35.53\tMax: 39.46\tDuration: 64.06\n",
      "Episode 73\tAgent Avg Score: 29.49\tMean: 37.50\tMin: 34.95\tMax: 39.60\tDuration: 63.77\n",
      "Episode 74\tAgent Avg Score: 29.60\tMean: 38.10\tMin: 35.94\tMax: 39.39\tDuration: 63.26\n",
      "Episode 75\tAgent Avg Score: 29.72\tMean: 38.72\tMin: 37.61\tMax: 39.59\tDuration: 63.20\n",
      "Episode 76\tAgent Avg Score: 29.83\tMean: 38.07\tMin: 36.32\tMax: 39.15\tDuration: 63.75\n",
      "Episode 77\tAgent Avg Score: 29.94\tMean: 38.08\tMin: 36.34\tMax: 39.23\tDuration: 63.39\n",
      "Episode 78\tAgent Avg Score: 30.05\tMean: 38.61\tMin: 37.66\tMax: 39.61\tDuration: 63.75\n",
      "Problem Solved after 78 epsisodes!! Agent Avg score: 30.05\n"
     ]
    }
   ],
   "source": [
    "with active_session():\n",
    "    \n",
    "    scores = ddpg()\n"
   ]
  },
  {
   "cell_type": "markdown",
   "metadata": {},
   "source": [
    "### Visualize Results"
   ]
  },
  {
   "cell_type": "code",
   "execution_count": 11,
   "metadata": {},
   "outputs": [
    {
     "data": {
      "image/png": "[encoded data removed]",
      "text/plain": [
       "<matplotlib.figure.Figure at 0x7f7ab5f8b320>"
      ]
     },
     "metadata": {
      "needs_background": "light"
     },
     "output_type": "display_data"
    }
   ],
   "source": [
    "fig = plt.figure()\n",
    "ax = fig.add_subplot(111)\n",
    "plt.plot(np.arange(1, len(scores)+1), scores)\n",
    "plt.ylabel('Score')\n",
    "plt.xlabel('Episode #')\n",
    "plt.show()"
   ]
  },
  {
   "cell_type": "markdown",
   "metadata": {},
   "source": [
    "### Watch the Trained Agent Play"
   ]
  },
  {
   "cell_type": "code",
   "execution_count": 15,
   "metadata": {},
   "outputs": [
    {
     "name": "stdout",
     "output_type": "stream",
     "text": [
      "Total score: 37.95749915158376\n"
     ]
    }
   ],
   "source": [
    "\n",
    "# Load the saved weights into Pytorch model\n",
    "agent.actor_local.load_state_dict(torch.load('checkpoint_actor.pth', map_location='cpu'))\n",
    "agent.critic_local.load_state_dict(torch.load('checkpoint_critic.pth', map_location='cpu'))\n",
    "\n",
    "env_info = env.reset(train_mode=False)[brain_name]     # reset the environment    \n",
    "states = env_info.vector_observations                  # get the current state (for each agent)\n",
    "scores = np.zeros(num_agents)                          # initialize the score (for each agent)\n",
    "\n",
    "while True:\n",
    "    actions = agent.act(states)                        # select actions from loaded model agent\n",
    "    env_info = env.step(actions)[brain_name]           # send all actions to the environment\n",
    "    next_states = env_info.vector_observations         # get next state (for each agent)\n",
    "    rewards = env_info.rewards                         # get reward (for each agent)\n",
    "    dones = env_info.local_done                        # check if done (for each agent)\n",
    "    scores += env_info.rewards                         # update the score (for each agent)\n",
    "    states = next_states                               # update states for next time step\n",
    "    if np.any(dones):                                  # exit loop if episode finished\n",
    "        break\n",
    "print('Total score: {}'.format(np.mean(scores)))\n",
    "\n",
    "env.close()"
   ]
  },
  {
   "cell_type": "code",
   "execution_count": null,
   "metadata": {},
   "outputs": [],
   "source": []
  }
 ],
 "metadata": {
  "kernelspec": {
   "display_name": "Python 3",
   "language": "python",
   "name": "python3"
  },
  "language_info": {
   "codemirror_mode": {
    "name": "ipython",
    "version": 3
   },
   "file_extension": ".py",
   "mimetype": "text/x-python",
   "name": "python",
   "nbconvert_exporter": "python",
   "pygments_lexer": "ipython3",
   "version": "3.6.3"
  }
 },
 "nbformat": 4,
 "nbformat_minor": 2
}
