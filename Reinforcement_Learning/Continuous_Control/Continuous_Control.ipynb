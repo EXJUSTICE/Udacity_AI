{
 "cells": [
  {
   "cell_type": "markdown",
   "metadata": {},
   "source": [
    "# Continuous Control with a DDPG Agent\n",
    "\n",
    "---\n",
    "\n",
    "You are welcome to use this coding environment to train your agent for the project.  Follow the instructions below to get started! This project was run under the Udacity Workspace environment.\n",
    "\n",
    "### 1. Start the Environment\n",
    "\n",
    "Run the next code cell to install a few packages.  This line will take a few minutes to run!"
   ]
  },
  {
   "cell_type": "code",
   "execution_count": 1,
   "metadata": {},
   "outputs": [
    {
     "name": "stdout",
     "output_type": "stream",
     "text": [
      "\u001b[31mtensorflow 1.7.1 has requirement numpy>=1.13.3, but you'll have numpy 1.12.1 which is incompatible.\u001b[0m\r\n",
      "\u001b[31mipython 6.5.0 has requirement prompt-toolkit<2.0.0,>=1.0.15, but you'll have prompt-toolkit 3.0.5 which is incompatible.\u001b[0m\r\n"
     ]
    }
   ],
   "source": [
    "!pip -q install ./python"
   ]
  },
  {
   "cell_type": "markdown",
   "metadata": {},
   "source": [
    "The environments corresponding to both versions of the environment are already saved in the Workspace and can be accessed at the file paths provided below.  \n",
    "\n",
    "Please select one of the two options below for loading the environment."
   ]
  },
  {
   "cell_type": "code",
   "execution_count": 2,
   "metadata": {},
   "outputs": [
    {
     "name": "stderr",
     "output_type": "stream",
     "text": [
      "INFO:unityagents:\n",
      "'Academy' started successfully!\n",
      "Unity Academy name: Academy\n",
      "        Number of Brains: 1\n",
      "        Number of External Brains : 1\n",
      "        Lesson number : 0\n",
      "        Reset Parameters :\n",
      "\t\tgoal_speed -> 1.0\n",
      "\t\tgoal_size -> 5.0\n",
      "Unity brain name: ReacherBrain\n",
      "        Number of Visual Observations (per agent): 0\n",
      "        Vector Observation space type: continuous\n",
      "        Vector Observation space size (per agent): 33\n",
      "        Number of stacked Vector Observation: 1\n",
      "        Vector Action space type: continuous\n",
      "        Vector Action space size (per agent): 4\n",
      "        Vector Action descriptions: , , , \n"
     ]
    }
   ],
   "source": [
    "from unityagents import UnityEnvironment\n",
    "import numpy as np\n",
    "\n",
    "# select this option to load version 1 (with a single agent) of the environment\n",
    "#env = UnityEnvironment(file_name='/data/Reacher_One_Linux_NoVis/Reacher_One_Linux_NoVis.x86_64')\n",
    "\n",
    "# select this option to load version 2 (with 20 agents) of the environment\n",
    "env = UnityEnvironment(file_name='/data/Reacher_Linux_NoVis/Reacher.x86_64')"
   ]
  },
  {
   "cell_type": "markdown",
   "metadata": {},
   "source": [
    "Environments contain **_brains_** which are responsible for deciding the actions of their associated agents. Here we check for the first brain available, and set it as the default brain we will be controlling from Python."
   ]
  },
  {
   "cell_type": "code",
   "execution_count": 3,
   "metadata": {},
   "outputs": [],
   "source": [
    "# get the default brain\n",
    "brain_name = env.brain_names[0]\n",
    "brain = env.brains[brain_name]"
   ]
  },
  {
   "cell_type": "markdown",
   "metadata": {},
   "source": [
    "### 2. Examine the State and Action Spaces\n",
    "\n",
    "Run the code cell below to print some information about the environment."
   ]
  },
  {
   "cell_type": "code",
   "execution_count": 4,
   "metadata": {},
   "outputs": [
    {
     "name": "stdout",
     "output_type": "stream",
     "text": [
      "Number of agents: 20\n",
      "Size of each action: 4\n",
      "There are 20 agents. Each observes a state with length: 33\n",
      "The state for the first agent looks like: [  0.00000000e+00  -4.00000000e+00   0.00000000e+00   1.00000000e+00\n",
      "  -0.00000000e+00  -0.00000000e+00  -4.37113883e-08   0.00000000e+00\n",
      "   0.00000000e+00   0.00000000e+00   0.00000000e+00   0.00000000e+00\n",
      "   0.00000000e+00   0.00000000e+00  -1.00000000e+01   0.00000000e+00\n",
      "   1.00000000e+00  -0.00000000e+00  -0.00000000e+00  -4.37113883e-08\n",
      "   0.00000000e+00   0.00000000e+00   0.00000000e+00   0.00000000e+00\n",
      "   0.00000000e+00   0.00000000e+00   5.75471878e+00  -1.00000000e+00\n",
      "   5.55726624e+00   0.00000000e+00   1.00000000e+00   0.00000000e+00\n",
      "  -1.68164849e-01]\n"
     ]
    }
   ],
   "source": [
    "# reset the environment\n",
    "env_info = env.reset(train_mode=True)[brain_name]\n",
    "\n",
    "# number of agents\n",
    "num_agents = len(env_info.agents)\n",
    "print('Number of agents:', num_agents)\n",
    "\n",
    "# size of each action\n",
    "action_size = brain.vector_action_space_size\n",
    "print('Size of each action:', action_size)\n",
    "\n",
    "# examine the state space \n",
    "states = env_info.vector_observations\n",
    "state_size = states.shape[1]\n",
    "print('There are {} agents. Each observes a state with length: {}'.format(states.shape[0], state_size))\n",
    "print('The state for the first agent looks like:', states[0])"
   ]
  },
  {
   "cell_type": "markdown",
   "metadata": {},
   "source": [
    "### 3. Take Random Actions in the Environment\n",
    "\n",
    "In the next code cell, you will learn how to use the Python API to control the agent and receive feedback from the environment.\n",
    "\n",
    "Note that **in this coding environment, you will not be able to watch the agents while they are training**, and you should set `train_mode=True` to restart the environment."
   ]
  },
  {
   "cell_type": "code",
   "execution_count": 5,
   "metadata": {},
   "outputs": [
    {
     "name": "stdout",
     "output_type": "stream",
     "text": [
      "Total score (averaged over agents) this episode: 0.16399999633431434\n"
     ]
    }
   ],
   "source": [
    "env_info = env.reset(train_mode=True)[brain_name]      # reset the environment    \n",
    "states = env_info.vector_observations                  # get the current state (for each agent)\n",
    "scores = np.zeros(num_agents)                          # initialize the score (for each agent)\n",
    "while True:\n",
    "    actions = np.random.randn(num_agents, action_size) # select an action (for each agent)\n",
    "    actions = np.clip(actions, -1, 1)                  # all actions between -1 and 1\n",
    "    env_info = env.step(actions)[brain_name]           # send all actions to tne environment\n",
    "    next_states = env_info.vector_observations         # get next state (for each agent)\n",
    "    rewards = env_info.rewards                         # get reward (for each agent)\n",
    "    dones = env_info.local_done                        # see if episode finished\n",
    "    scores += env_info.rewards                         # update the score (for each agent)\n",
    "    states = next_states                               # roll over states to next time step\n",
    "    if np.any(dones):                                  # exit loop if episode finished\n",
    "        break\n",
    "print('Total score (averaged over agents) this episode: {}'.format(np.mean(scores)))"
   ]
  },
  {
   "cell_type": "markdown",
   "metadata": {},
   "source": [
    "When finished, you can close the environment."
   ]
  },
  {
   "cell_type": "code",
   "execution_count": 6,
   "metadata": {},
   "outputs": [],
   "source": [
    "#env.close() Dont close it while we are training"
   ]
  },
  {
   "cell_type": "markdown",
   "metadata": {},
   "source": [
    "### 4. It's Your Turn!\n",
    "\n",
    "Now it's your turn to train your own agent to solve the environment!  A few **important notes**:\n",
    "- When training the environment, set `train_mode=True`, so that the line for resetting the environment looks like the following:\n",
    "```python\n",
    "env_info = env.reset(train_mode=True)[brain_name]\n",
    "```\n",
    "- To structure your work, you're welcome to work directly in this Jupyter notebook, or you might like to start over with a new file!  You can see the list of files in the workspace by clicking on **_Jupyter_** in the top left corner of the notebook.\n",
    "- In this coding environment, you will not be able to watch the agents while they are training.  However, **_after training the agents_**, you can download the saved model weights to watch the agents on your own machine! "
   ]
  },
  {
   "cell_type": "code",
   "execution_count": 7,
   "metadata": {},
   "outputs": [],
   "source": [
    "import gym\n",
    "import random\n",
    "import torch\n",
    "import numpy as np\n",
    "from collections import deque\n",
    "import matplotlib.pyplot as plt\n",
    "%matplotlib inline\n",
    "\n",
    "from ddpg_agent import Agent"
   ]
  },
  {
   "cell_type": "markdown",
   "metadata": {},
   "source": [
    "### Initialize DDPG Agent with Network Parameters\n",
    "Parameters are obtained form environment dimensions"
   ]
  },
  {
   "cell_type": "code",
   "execution_count": 8,
   "metadata": {},
   "outputs": [],
   "source": [
    "\n",
    "import time\n",
    "from datetime import timedelta\n",
    "from workspace_utils import active_session\n",
    "agent = Agent(state_size=state_size, action_size=action_size, random_seed=2)"
   ]
  },
  {
   "cell_type": "markdown",
   "metadata": {},
   "source": [
    "### Define DDPG Training Function\n",
    "\n",
    "Single DDPG Agent Approach. Alternatively, a DDPG agent could be initialized for every single environment agent, with collection, training, and evaluation done sequentially.\n",
    "However, that approach is inefficient for this environment. Should the agent's be in slightly different environments (i.e. levels in a video game), a multi DDPG-agent approach may be suitable.\n",
    "\n",
    "Pipeline is as follows:\n"
   ]
  },
  {
   "cell_type": "code",
   "execution_count": 11,
   "metadata": {},
   "outputs": [],
   "source": [
    "\n",
    "def ddpg(n_episodes=2000, max_t=1000, print_every=10, learn_every=20, learn_repeat=10, target_score=30,train_mode=True):\n",
    "    total_scores_deque = deque(maxlen=100)\n",
    "    total_scores = []\n",
    "    \n",
    "    for i_episode in range(1, n_episodes+1):\n",
    "        # Reset Env and Agent\n",
    "        env_info = env.reset(train_mode=train_mode)[brain_name]       # reset the environment    \n",
    "        states = env_info.vector_observations                   # get the current state (for each agent)\n",
    "        scores = np.zeros(num_agents)                            # initialize the score (for each agent)\n",
    "        agent.reset()\n",
    "        \n",
    "        start_time = time.time()\n",
    "        \n",
    "        for t in range(max_t):\n",
    "            actions = agent.act(states)                         # Predict action on states using agent\n",
    "            \n",
    "            env_info = env.step(actions)[brain_name]            # send all actions to the environment\n",
    "            next_states = env_info.vector_observations          # get next state (for each agent)\n",
    "            rewards = env_info.rewards                          # get reward (for each agent)\n",
    "            \n",
    "            dones = env_info.local_done                         # check if done (for each agent)\n",
    "            \n",
    "            for state, action, reward, next_state, done in zip(states, actions, rewards, next_states, dones):\n",
    "                agent.step(state, action, reward, next_state, done) # send actions to commit to replay buffer\n",
    "            \n",
    "            scores += env_info.rewards                           # update the score (for each agent)\n",
    "            states = next_states                                # update states for next time step\n",
    "            \n",
    "            #From the DDPG paper, we learn every 20 timesteps, 10 repetitions\n",
    "            if t%learn_every == 0:\n",
    "                for _ in range(learn_repeat):\n",
    "                    agent.step_learn()\n",
    "            \n",
    "            if np.any(dones):                                   # exit loop if episode finished on any agent\n",
    "                break\n",
    "        \n",
    "        #Mean scores across all agent per episode\n",
    "        mean_score = np.mean(scores)\n",
    "        min_score = np.min(scores)\n",
    "        max_score = np.max(scores)\n",
    "        #Append to deque\n",
    "        total_scores_deque.append(mean_score)\n",
    "        total_scores.append(mean_score)\n",
    "        #Take the average score from the deque - aiming for 100 consecutive episode minimum above 30\n",
    "        total_deque_average_score = np.mean(total_scores_deque)\n",
    "        duration = time.time() - start_time\n",
    "        \n",
    "        print('\\rEpisode {}\\tAgent Avg Score: {:.2f}\\tMean: {:.2f}\\tMin: {:.2f}\\tMax: {:.2f}\\tDuration: {:.2f}'\n",
    "              .format(i_episode, total_deque_average_score, mean_score, min_score, max_score, duration))\n",
    "\n",
    "        if i_episode % print_every == 0:\n",
    "            torch.save(agent.actor_local.state_dict(), 'checkpoint_actor.pth')\n",
    "            torch.save(agent.critic_local.state_dict(), 'checkpoint_critic.pth')\n",
    "            print('\\rEpisode {}\\tAgent Avg Score: {:.2f}'.format(i_episode, total_deque_average_score))  \n",
    "            \n",
    "        if total_deque_average_score >= target_score and i_episode >= 100:\n",
    "            print('Problem Solved after {} epsisodes!! Agent Avg score: {:.2f}'.format(i_episode,total_deque_average_score))\n",
    "            torch.save(agent.actor_local.state_dict(), 'checkpoint_actor.pth')\n",
    "            torch.save(agent.critic_local.state_dict(), 'checkpoint_critic.pth')\n",
    "            break\n",
    "    \n",
    "    return total_scores"
   ]
  },
  {
   "cell_type": "markdown",
   "metadata": {},
   "source": [
    "### Train the DDPG Agent\n",
    "Active session is a workspace-specific method that prevents the Udacity Workspace from disconnecting after 30 minutes"
   ]
  },
  {
   "cell_type": "code",
   "execution_count": 12,
   "metadata": {},
   "outputs": [
    {
     "name": "stderr",
     "output_type": "stream",
     "text": [
      "/home/workspace/ddpg_agent.py:105: UserWarning: torch.nn.utils.clip_grad_norm is now deprecated in favor of torch.nn.utils.clip_grad_norm_.\n",
      "  torch.nn.utils.clip_grad_norm(self.critic_local.parameters(), 1)\n"
     ]
    },
    {
     "name": "stdout",
     "output_type": "stream",
     "text": [
      "Episode 1\tAgent Avg Score: 1.07\tMean: 1.07\tMin: 0.36\tMax: 2.33\tDuration: 22.76\n",
      "Episode 2\tAgent Avg Score: 1.01\tMean: 0.95\tMin: 0.00\tMax: 2.51\tDuration: 23.14\n",
      "Episode 3\tAgent Avg Score: 1.02\tMean: 1.05\tMin: 0.18\tMax: 2.98\tDuration: 23.29\n",
      "Episode 4\tAgent Avg Score: 1.08\tMean: 1.23\tMin: 0.55\tMax: 2.17\tDuration: 23.50\n",
      "Episode 5\tAgent Avg Score: 1.20\tMean: 1.68\tMin: 0.00\tMax: 3.49\tDuration: 23.89\n",
      "Episode 6\tAgent Avg Score: 1.31\tMean: 1.91\tMin: 0.61\tMax: 3.28\tDuration: 24.24\n",
      "Episode 7\tAgent Avg Score: 1.37\tMean: 1.69\tMin: 0.52\tMax: 2.78\tDuration: 24.58\n",
      "Episode 8\tAgent Avg Score: 1.46\tMean: 2.08\tMin: 0.00\tMax: 3.85\tDuration: 24.89\n",
      "Episode 9\tAgent Avg Score: 1.53\tMean: 2.16\tMin: 0.82\tMax: 3.67\tDuration: 25.27\n",
      "Episode 10\tAgent Avg Score: 1.66\tMean: 2.83\tMin: 1.73\tMax: 4.29\tDuration: 25.94\n",
      "Episode 10\tAgent Avg Score: 1.66\n",
      "Episode 11\tAgent Avg Score: 1.89\tMean: 4.17\tMin: 1.82\tMax: 6.94\tDuration: 26.36\n",
      "Episode 12\tAgent Avg Score: 2.21\tMean: 5.73\tMin: 2.33\tMax: 12.22\tDuration: 26.87\n",
      "Episode 13\tAgent Avg Score: 2.53\tMean: 6.34\tMin: 2.89\tMax: 10.84\tDuration: 27.62\n",
      "Episode 14\tAgent Avg Score: 2.82\tMean: 6.66\tMin: 3.44\tMax: 12.32\tDuration: 28.61\n",
      "Episode 15\tAgent Avg Score: 3.27\tMean: 9.44\tMin: 4.92\tMax: 16.38\tDuration: 29.37\n",
      "Episode 16\tAgent Avg Score: 3.79\tMean: 11.62\tMin: 4.83\tMax: 21.67\tDuration: 29.91\n",
      "Episode 17\tAgent Avg Score: 4.37\tMean: 13.63\tMin: 4.00\tMax: 22.30\tDuration: 30.67\n",
      "Episode 18\tAgent Avg Score: 4.89\tMean: 13.82\tMin: 5.98\tMax: 22.01\tDuration: 31.50\n",
      "Episode 19\tAgent Avg Score: 5.70\tMean: 20.16\tMin: 11.31\tMax: 33.20\tDuration: 32.84\n",
      "Episode 20\tAgent Avg Score: 6.47\tMean: 21.13\tMin: 11.78\tMax: 29.93\tDuration: 33.46\n",
      "Episode 20\tAgent Avg Score: 6.47\n",
      "Episode 21\tAgent Avg Score: 7.39\tMean: 25.83\tMin: 17.27\tMax: 32.13\tDuration: 34.44\n",
      "Episode 22\tAgent Avg Score: 8.24\tMean: 26.18\tMin: 12.47\tMax: 31.23\tDuration: 35.40\n",
      "Episode 23\tAgent Avg Score: 9.11\tMean: 28.08\tMin: 12.87\tMax: 34.87\tDuration: 36.37\n",
      "Episode 24\tAgent Avg Score: 9.96\tMean: 29.52\tMin: 18.91\tMax: 35.98\tDuration: 37.55\n",
      "Episode 25\tAgent Avg Score: 10.85\tMean: 32.17\tMin: 20.84\tMax: 36.01\tDuration: 38.63\n",
      "Episode 26\tAgent Avg Score: 11.78\tMean: 35.04\tMin: 25.45\tMax: 38.23\tDuration: 39.62\n",
      "Episode 27\tAgent Avg Score: 12.60\tMean: 33.91\tMin: 29.02\tMax: 37.73\tDuration: 40.44\n",
      "Episode 28\tAgent Avg Score: 13.35\tMean: 33.84\tMin: 25.10\tMax: 39.54\tDuration: 41.49\n",
      "Episode 29\tAgent Avg Score: 14.14\tMean: 36.02\tMin: 30.50\tMax: 39.50\tDuration: 42.59\n",
      "Episode 30\tAgent Avg Score: 14.88\tMean: 36.40\tMin: 29.58\tMax: 38.90\tDuration: 43.57\n",
      "Episode 30\tAgent Avg Score: 14.88\n",
      "Episode 31\tAgent Avg Score: 15.63\tMean: 38.04\tMin: 30.73\tMax: 39.57\tDuration: 44.72\n",
      "Episode 32\tAgent Avg Score: 16.29\tMean: 36.84\tMin: 31.97\tMax: 39.62\tDuration: 45.59\n",
      "Episode 33\tAgent Avg Score: 16.89\tMean: 36.12\tMin: 31.01\tMax: 39.13\tDuration: 47.05\n",
      "Episode 34\tAgent Avg Score: 17.48\tMean: 37.06\tMin: 33.31\tMax: 39.60\tDuration: 47.65\n",
      "Episode 35\tAgent Avg Score: 18.07\tMean: 38.11\tMin: 33.13\tMax: 39.37\tDuration: 48.64\n",
      "Episode 36\tAgent Avg Score: 18.62\tMean: 37.74\tMin: 32.64\tMax: 39.57\tDuration: 50.15\n",
      "Episode 37\tAgent Avg Score: 19.13\tMean: 37.43\tMin: 32.14\tMax: 39.47\tDuration: 50.59\n",
      "Episode 38\tAgent Avg Score: 19.60\tMean: 37.21\tMin: 29.84\tMax: 39.46\tDuration: 51.82\n",
      "Episode 39\tAgent Avg Score: 20.08\tMean: 38.15\tMin: 33.75\tMax: 39.65\tDuration: 52.67\n",
      "Episode 40\tAgent Avg Score: 20.52\tMean: 37.77\tMin: 33.45\tMax: 39.66\tDuration: 53.73\n",
      "Episode 40\tAgent Avg Score: 20.52\n",
      "Episode 41\tAgent Avg Score: 20.97\tMean: 38.79\tMin: 36.94\tMax: 39.62\tDuration: 54.81\n",
      "Episode 42\tAgent Avg Score: 21.35\tMean: 36.94\tMin: 31.78\tMax: 39.32\tDuration: 55.61\n",
      "Episode 43\tAgent Avg Score: 21.73\tMean: 37.72\tMin: 33.81\tMax: 39.55\tDuration: 56.57\n",
      "Episode 44\tAgent Avg Score: 22.07\tMean: 36.74\tMin: 32.87\tMax: 39.46\tDuration: 57.86\n",
      "Episode 45\tAgent Avg Score: 22.42\tMean: 37.84\tMin: 32.20\tMax: 39.49\tDuration: 58.67\n",
      "Episode 46\tAgent Avg Score: 22.76\tMean: 37.89\tMin: 34.60\tMax: 39.61\tDuration: 59.44\n",
      "Episode 47\tAgent Avg Score: 23.06\tMean: 37.24\tMin: 33.82\tMax: 39.23\tDuration: 60.66\n",
      "Episode 48\tAgent Avg Score: 23.38\tMean: 38.08\tMin: 34.33\tMax: 39.56\tDuration: 61.68\n",
      "Episode 49\tAgent Avg Score: 23.65\tMean: 36.96\tMin: 33.49\tMax: 38.80\tDuration: 63.18\n",
      "Episode 50\tAgent Avg Score: 23.94\tMean: 37.94\tMin: 36.44\tMax: 39.47\tDuration: 63.41\n",
      "Episode 50\tAgent Avg Score: 23.94\n",
      "Episode 51\tAgent Avg Score: 24.21\tMean: 37.82\tMin: 36.05\tMax: 38.81\tDuration: 63.47\n",
      "Episode 52\tAgent Avg Score: 24.48\tMean: 38.32\tMin: 34.07\tMax: 39.50\tDuration: 63.15\n",
      "Episode 53\tAgent Avg Score: 24.75\tMean: 38.85\tMin: 35.46\tMax: 39.57\tDuration: 64.30\n",
      "Episode 54\tAgent Avg Score: 25.01\tMean: 38.50\tMin: 37.06\tMax: 39.50\tDuration: 63.69\n",
      "Episode 55\tAgent Avg Score: 25.24\tMean: 37.92\tMin: 32.89\tMax: 39.34\tDuration: 63.38\n",
      "Episode 56\tAgent Avg Score: 25.48\tMean: 38.43\tMin: 33.95\tMax: 39.57\tDuration: 63.59\n",
      "Episode 57\tAgent Avg Score: 25.70\tMean: 38.27\tMin: 36.26\tMax: 39.33\tDuration: 64.31\n",
      "Episode 58\tAgent Avg Score: 25.93\tMean: 38.63\tMin: 35.75\tMax: 39.62\tDuration: 63.52\n",
      "Episode 59\tAgent Avg Score: 26.14\tMean: 38.42\tMin: 36.25\tMax: 39.43\tDuration: 63.86\n",
      "Episode 60\tAgent Avg Score: 26.33\tMean: 37.81\tMin: 35.43\tMax: 39.24\tDuration: 64.25\n",
      "Episode 60\tAgent Avg Score: 26.33\n",
      "Episode 61\tAgent Avg Score: 26.53\tMean: 38.21\tMin: 36.79\tMax: 39.44\tDuration: 63.83\n",
      "Episode 62\tAgent Avg Score: 26.71\tMean: 38.05\tMin: 35.94\tMax: 39.43\tDuration: 63.94\n",
      "Episode 63\tAgent Avg Score: 26.90\tMean: 38.29\tMin: 36.81\tMax: 39.50\tDuration: 63.79\n",
      "Episode 64\tAgent Avg Score: 27.08\tMean: 38.60\tMin: 37.03\tMax: 39.37\tDuration: 64.13\n",
      "Episode 65\tAgent Avg Score: 27.26\tMean: 38.83\tMin: 37.58\tMax: 39.49\tDuration: 63.78\n",
      "Episode 66\tAgent Avg Score: 27.42\tMean: 37.90\tMin: 35.41\tMax: 39.46\tDuration: 63.97\n",
      "Episode 67\tAgent Avg Score: 27.58\tMean: 38.20\tMin: 35.67\tMax: 39.33\tDuration: 63.79\n",
      "Episode 68\tAgent Avg Score: 27.74\tMean: 38.51\tMin: 36.22\tMax: 39.59\tDuration: 64.13\n",
      "Episode 69\tAgent Avg Score: 27.88\tMean: 37.21\tMin: 32.13\tMax: 38.73\tDuration: 63.72\n",
      "Episode 70\tAgent Avg Score: 28.03\tMean: 38.37\tMin: 35.91\tMax: 39.55\tDuration: 64.18\n",
      "Episode 70\tAgent Avg Score: 28.03\n",
      "Episode 71\tAgent Avg Score: 28.18\tMean: 38.86\tMin: 37.44\tMax: 39.52\tDuration: 63.58\n",
      "Episode 72\tAgent Avg Score: 28.32\tMean: 38.25\tMin: 36.20\tMax: 39.30\tDuration: 64.83\n",
      "Episode 73\tAgent Avg Score: 28.45\tMean: 37.91\tMin: 35.74\tMax: 39.17\tDuration: 63.94\n",
      "Episode 74\tAgent Avg Score: 28.60\tMean: 39.12\tMin: 38.31\tMax: 39.64\tDuration: 63.51\n",
      "Episode 75\tAgent Avg Score: 28.71\tMean: 36.96\tMin: 35.44\tMax: 38.34\tDuration: 64.10\n",
      "Episode 76\tAgent Avg Score: 28.83\tMean: 37.89\tMin: 35.50\tMax: 39.19\tDuration: 64.20\n",
      "Episode 77\tAgent Avg Score: 28.95\tMean: 38.40\tMin: 36.78\tMax: 39.24\tDuration: 63.95\n",
      "Episode 78\tAgent Avg Score: 29.07\tMean: 38.06\tMin: 36.56\tMax: 39.15\tDuration: 64.15\n",
      "Episode 79\tAgent Avg Score: 29.18\tMean: 37.82\tMin: 36.09\tMax: 38.78\tDuration: 64.90\n",
      "Episode 80\tAgent Avg Score: 29.30\tMean: 38.60\tMin: 37.27\tMax: 39.32\tDuration: 63.98\n",
      "Episode 80\tAgent Avg Score: 29.30\n",
      "Episode 81\tAgent Avg Score: 29.40\tMean: 37.20\tMin: 33.14\tMax: 38.90\tDuration: 64.12\n",
      "Episode 82\tAgent Avg Score: 29.50\tMean: 37.86\tMin: 36.73\tMax: 39.15\tDuration: 64.16\n",
      "Episode 83\tAgent Avg Score: 29.60\tMean: 38.01\tMin: 35.91\tMax: 39.25\tDuration: 64.20\n",
      "Episode 84\tAgent Avg Score: 29.71\tMean: 38.56\tMin: 37.50\tMax: 39.28\tDuration: 64.12\n",
      "Episode 85\tAgent Avg Score: 29.81\tMean: 38.46\tMin: 34.71\tMax: 39.61\tDuration: 64.16\n",
      "Episode 86\tAgent Avg Score: 29.91\tMean: 38.30\tMin: 36.99\tMax: 39.17\tDuration: 64.13\n",
      "Episode 87\tAgent Avg Score: 30.01\tMean: 38.61\tMin: 37.02\tMax: 39.42\tDuration: 64.25\n",
      "Episode 88\tAgent Avg Score: 30.10\tMean: 37.48\tMin: 36.05\tMax: 38.69\tDuration: 64.06\n",
      "Episode 89\tAgent Avg Score: 30.19\tMean: 38.56\tMin: 37.57\tMax: 39.23\tDuration: 64.19\n",
      "Episode 90\tAgent Avg Score: 30.26\tMean: 36.19\tMin: 33.29\tMax: 38.30\tDuration: 64.05\n",
      "Episode 90\tAgent Avg Score: 30.26\n",
      "Episode 91\tAgent Avg Score: 30.34\tMean: 37.76\tMin: 36.06\tMax: 39.38\tDuration: 64.18\n",
      "Episode 92\tAgent Avg Score: 30.42\tMean: 37.96\tMin: 35.67\tMax: 39.58\tDuration: 64.21\n",
      "Episode 93\tAgent Avg Score: 30.50\tMean: 37.12\tMin: 34.44\tMax: 39.33\tDuration: 64.01\n",
      "Episode 94\tAgent Avg Score: 30.56\tMean: 36.63\tMin: 33.25\tMax: 38.09\tDuration: 63.94\n",
      "Episode 95\tAgent Avg Score: 30.64\tMean: 37.64\tMin: 34.99\tMax: 39.22\tDuration: 64.19\n",
      "Episode 96\tAgent Avg Score: 30.71\tMean: 37.77\tMin: 34.81\tMax: 39.59\tDuration: 63.87\n",
      "Episode 97\tAgent Avg Score: 30.78\tMean: 37.43\tMin: 36.28\tMax: 39.11\tDuration: 63.80\n",
      "Episode 98\tAgent Avg Score: 30.84\tMean: 37.14\tMin: 34.88\tMax: 38.87\tDuration: 64.02\n",
      "Episode 99\tAgent Avg Score: 30.92\tMean: 38.08\tMin: 35.61\tMax: 38.76\tDuration: 63.88\n",
      "Episode 100\tAgent Avg Score: 30.98\tMean: 37.53\tMin: 34.62\tMax: 39.33\tDuration: 63.79\n",
      "Episode 100\tAgent Avg Score: 30.98\n",
      "Problem Solved after 100 epsisodes!! Agent Avg score: 30.98\n"
     ]
    }
   ],
   "source": [
    "with active_session():\n",
    "    \n",
    "    scores = ddpg()\n"
   ]
  },
  {
   "cell_type": "markdown",
   "metadata": {},
   "source": [
    "### Visualize Results"
   ]
  },
  {
   "cell_type": "code",
   "execution_count": 13,
   "metadata": {},
   "outputs": [
    {
     "data": {
      "image/png": "[encoded data removed]",
      "text/plain": [
       "<matplotlib.figure.Figure at 0x7f8ea08e0b38>"
      ]
     },
     "metadata": {
      "needs_background": "light"
     },
     "output_type": "display_data"
    }
   ],
   "source": [
    "fig = plt.figure()\n",
    "ax = fig.add_subplot(111)\n",
    "plt.plot(np.arange(1, len(scores)+1), scores)\n",
    "plt.ylabel('Score')\n",
    "plt.xlabel('Episode #')\n",
    "plt.show()"
   ]
  },
  {
   "cell_type": "markdown",
   "metadata": {},
   "source": [
    "### Watch the Trained Agent Play"
   ]
  },
  {
   "cell_type": "code",
   "execution_count": 14,
   "metadata": {},
   "outputs": [
    {
     "name": "stdout",
     "output_type": "stream",
     "text": [
      "Total score: 37.61399915926158\n"
     ]
    }
   ],
   "source": [
    "\n",
    "# Load the saved weights into Pytorch model\n",
    "agent.actor_local.load_state_dict(torch.load('checkpoint_actor.pth', map_location='cpu'))\n",
    "agent.critic_local.load_state_dict(torch.load('checkpoint_critic.pth', map_location='cpu'))\n",
    "\n",
    "env_info = env.reset(train_mode=False)[brain_name]     # reset the environment    \n",
    "states = env_info.vector_observations                  # get the current state (for each agent)\n",
    "scores = np.zeros(num_agents)                          # initialize the score (for each agent)\n",
    "\n",
    "while True:\n",
    "    actions = agent.act(states)                        # select actions from loaded model agent\n",
    "    env_info = env.step(actions)[brain_name]           # send all actions to the environment\n",
    "    next_states = env_info.vector_observations         # get next state (for each agent)\n",
    "    rewards = env_info.rewards                         # get reward (for each agent)\n",
    "    dones = env_info.local_done                        # check if done (for each agent)\n",
    "    scores += env_info.rewards                         # update the score (for each agent)\n",
    "    states = next_states                               # update states for next time step\n",
    "    if np.any(dones):                                  # exit loop if episode finished\n",
    "        break\n",
    "print('Total score: {}'.format(np.mean(scores)))\n",
    "\n",
    "env.close()"
   ]
  },
  {
   "cell_type": "code",
   "execution_count": null,
   "metadata": {},
   "outputs": [],
   "source": []
  }
 ],
 "metadata": {
  "kernelspec": {
   "display_name": "Python 3",
   "language": "python",
   "name": "python3"
  },
  "language_info": {
   "codemirror_mode": {
    "name": "ipython",
    "version": 3
   },
   "file_extension": ".py",
   "mimetype": "text/x-python",
   "name": "python",
   "nbconvert_exporter": "python",
   "pygments_lexer": "ipython3",
   "version": "3.6.3"
  }
 },
 "nbformat": 4,
 "nbformat_minor": 2
}
